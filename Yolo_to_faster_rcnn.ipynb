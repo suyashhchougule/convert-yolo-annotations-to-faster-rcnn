{
 "cells": [
  {
   "cell_type": "code",
   "execution_count": null,
   "metadata": {
    "scrolled": true
   },
   "outputs": [],
   "source": [
    "from csv import writer\n",
    "import os\n",
    "import cv2\n",
    "\n",
    "path ='f:/y/test' \n",
    "\n",
    "class_dict = {\n",
    "  \"0\": \"Auto\",\n",
    "  \"1\": \"tempo\",\n",
    "  \"2\": 'truck'\n",
    "}\n",
    "\n",
    "text_files = [files for files in os.listdir(path) if files.endswith('.txt')]\n",
    "\n",
    "tags=['filename','width','height','class','xmin','ymin','xmax','ymax']\n",
    "with open('f:/y/test.csv', 'a+', newline='') as write_obj:            \n",
    "            csv_writer = writer(write_obj)\n",
    "            csv_writer.writerow(tags)\n",
    "print(len(text_files))\n",
    "for i in text_files:\n",
    "    f=open(\"f:/y/test/\"+i, \"r\")\n",
    "    print(i)\n",
    "    \n",
    "    name=i.replace('.txt','.jpg')\n",
    "    img_path= \"f:/y/test/\"+name\n",
    "    img=cv2.imread(img_path)\n",
    "    height,width,depth=img.shape\n",
    "    print(width,height)\n",
    "    \n",
    "    \n",
    "    for line in f:\n",
    "        rcnn_list=[]\n",
    "        \n",
    "        stripped_line = line. strip()\n",
    "        line_list = stripped_line. split()\n",
    "        \n",
    "        vehicle=class_dict[line_list[0]]\n",
    "        \n",
    "        x_min=(float(line_list[1])*width)-(float(line_list[3])*width/2)\n",
    "        y_min=(float(line_list[2])*height)-(float(line_list[4])*height/2)\n",
    "        x_max=(float(line_list[1])*width)+(float(line_list[3])*width/2)\n",
    "        y_max=(float(line_list[2])*height)+(float(line_list[4])*height/2)\n",
    "        \n",
    "        rcnn_list=[name,width,height,vehicle,x_min,y_min,x_max,y_max]        \n",
    "        \n",
    "        with open('f:/y/test.csv', 'a+', newline='') as write_obj:\n",
    "            \n",
    "            csv_writer = writer(write_obj)\n",
    "            csv_writer.writerow(rcnn_list)\n",
    "            ''\n",
    "        write_obj.close()\n",
    "        \n",
    "    f.close()\n"
   ]
  },
  {
   "cell_type": "code",
   "execution_count": null,
   "metadata": {},
   "outputs": [],
   "source": [
    "from csv import writer\n",
    "import os\n",
    "import cv2\n",
    "\n",
    "path ='f:/y/oj' \n",
    "\n",
    "class_dict = {\n",
    "  \"0\": \"Auto\",\n",
    "  \"1\": \"tempo\",\n",
    "  \"2\": 'truck'\n",
    "}\n",
    "\n",
    "Auto=[]\n",
    "tempo=[]\n",
    "truck=[]\n",
    "\n",
    "text_files = [files for files in os.listdir(path) if files.endswith('.txt')]\n",
    "\n",
    "\n",
    "\n",
    "print(len(text_files))            \n",
    "\n",
    "for i in text_files:\n",
    "    f=open(\"f:/y/oj/\"+i, \"r\")\n",
    " \n",
    "    \n",
    "    name=i.replace('.txt','.jpg')\n",
    "    \n",
    "    \n",
    "        \n",
    "    for line in f:\n",
    "        rcnn_list=[]\n",
    "        \n",
    "        stripped_line = line. strip()\n",
    "        line_list = stripped_line. split()\n",
    "        \n",
    "        vehicle='7gyv'\n",
    "        \n",
    "        if line_list[0]=='0':\n",
    "            Auto.append(i)\n",
    "#             break\n",
    "            \n",
    "        if line_list[0]=='1':\n",
    "            tempo.append(i)\n",
    "#             break\n",
    "            \n",
    "        if line_list[0]=='2':\n",
    "            truck.append(i)\n",
    "#             break\n",
    "            \n",
    "        else:\n",
    "            print(i)\n",
    "            \n",
    "            \n",
    "        \n",
    "    f.close()"
   ]
  },
  {
   "cell_type": "code",
   "execution_count": null,
   "metadata": {},
   "outputs": [],
   "source": [
    "jpg_files = [files for files in os.listdir(path) if files.endswith('.jpg')]"
   ]
  },
  {
   "cell_type": "code",
   "execution_count": null,
   "metadata": {},
   "outputs": [],
   "source": [
    "print(len(jpg_files))"
   ]
  },
  {
   "cell_type": "code",
   "execution_count": null,
   "metadata": {},
   "outputs": [],
   "source": [
    "import re\n",
    "truck.sort(key=lambda f: int(re.sub('\\D', '', f)))"
   ]
  },
  {
   "cell_type": "code",
   "execution_count": null,
   "metadata": {},
   "outputs": [],
   "source": [
    "import os\n",
    "\n",
    "dir_name = \"F:\\\\Tensorflow1\\\\models\\\\research\\\\object_detection\\\\images\\\\test\"\n",
    "test = os.listdir(dir_name)\n",
    "\n",
    "for item in test:\n",
    "    if item.endswith(\".txt\"):\n",
    "        os.remove(os.path.join(dir_name, item))"
   ]
  },
  {
   "cell_type": "code",
   "execution_count": null,
   "metadata": {},
   "outputs": [],
   "source": []
  }
 ],
 "metadata": {
  "kernelspec": {
   "display_name": "Python 3",
   "language": "python",
   "name": "python3"
  },
  "language_info": {
   "codemirror_mode": {
    "name": "ipython",
    "version": 3
   },
   "file_extension": ".py",
   "mimetype": "text/x-python",
   "name": "python",
   "nbconvert_exporter": "python",
   "pygments_lexer": "ipython3",
   "version": "3.7.6"
  }
 },
 "nbformat": 4,
 "nbformat_minor": 4
}
